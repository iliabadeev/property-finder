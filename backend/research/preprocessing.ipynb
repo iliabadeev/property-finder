{
 "cells": [
  {
   "cell_type": "code",
   "execution_count": 1,
   "metadata": {
    "pycharm": {
     "name": "#%%\n"
    }
   },
   "outputs": [],
   "source": [
    "# get rid of the annoying ipython import cache\n",
    "%load_ext autoreload\n",
    "%autoreload 2"
   ]
  },
  {
   "cell_type": "code",
   "execution_count": 2,
   "metadata": {
    "pycharm": {
     "name": "#%%\n"
    }
   },
   "outputs": [],
   "source": [
    "# Python\n",
    "from __future__ import annotations\n",
    "# Internal\n",
    "from research.core.preprocessing import custom\n",
    "# External\n",
    "import pandas as pd\n",
    "import joblib\n",
    "from sklearn.compose import ColumnTransformer\n",
    "from sklearn.preprocessing import OneHotEncoder\n",
    "# Typing\n",
    "from typing import TYPE_CHECKING\n",
    "if TYPE_CHECKING:\n",
    "    from typing import List, Tuple, Any"
   ]
  },
  {
   "cell_type": "code",
   "execution_count": 3,
   "metadata": {
    "pycharm": {
     "name": "#%%\n"
    }
   },
   "outputs": [],
   "source": [
    "# Load data objects (clean, optimized)\n",
    "poi: 'pd.DataFrame' = pd.read_pickle('core/loading/poi.pkl.gzip')\n",
    "listings: 'pd.DataFrame' = pd.read_pickle('core/loading/listings.pkl.gzip')\n",
    "transformers: 'List[Tuple[str, Any, List[str]]]' = list()"
   ]
  },
  {
   "cell_type": "markdown",
   "metadata": {
    "pycharm": {
     "name": "#%% md\n"
    }
   },
   "source": [
    "## Missing Values\n",
    "Check how many missings values do we have.\n",
    "Looks like the data is quite clean, the only missings are in the 'cheques' (transacted is a target variable)."
   ]
  },
  {
   "cell_type": "code",
   "execution_count": 4,
   "metadata": {
    "pycharm": {
     "name": "#%%\n"
    }
   },
   "outputs": [
    {
     "data": {
      "text/plain": [
       "cheques       41557\n",
       "transacted       12\n",
       "dtype: int64"
      ]
     },
     "execution_count": 4,
     "metadata": {},
     "output_type": "execute_result"
    }
   ],
   "source": [
    "# Handle missing values\n",
    "listings.isna().sum()[listings.isna().sum() != 0]"
   ]
  },
  {
   "cell_type": "code",
   "execution_count": 5,
   "metadata": {
    "pycharm": {
     "name": "#%%\n"
    }
   },
   "outputs": [
    {
     "data": {
      "text/plain": [
       "Series([], dtype: int64)"
      ]
     },
     "execution_count": 5,
     "metadata": {},
     "output_type": "execute_result"
    }
   ],
   "source": [
    "poi.isna().sum()[poi.isna().sum() != 0]"
   ]
  },
  {
   "cell_type": "markdown",
   "metadata": {
    "pycharm": {
     "name": "#%% md\n"
    }
   },
   "source": [
    "## Cheques\n",
    "Cheques is non-negative, it makes perfect sense to represent absence of data as 0's."
   ]
  },
  {
   "cell_type": "code",
   "execution_count": 6,
   "metadata": {
    "pycharm": {
     "name": "#%%\n"
    }
   },
   "outputs": [
    {
     "data": {
      "text/plain": [
       "count    18443.000000\n",
       "mean         2.900233\n",
       "std          2.236097\n",
       "min          1.000000\n",
       "25%          1.000000\n",
       "50%          2.000000\n",
       "75%          4.000000\n",
       "max         12.000000\n",
       "Name: cheques, dtype: float64"
      ]
     },
     "execution_count": 6,
     "metadata": {},
     "output_type": "execute_result"
    }
   ],
   "source": [
    "listings['cheques'].describe()"
   ]
  },
  {
   "cell_type": "markdown",
   "metadata": {
    "pycharm": {
     "name": "#%% md\n"
    }
   },
   "source": [
    "Start building the transformation pipeline. That is important to have pipeline object (pretrained)\n",
    "ready, to use it later for model selection and on the production server.\n",
    "\n",
    "Here, at first we impute 0's. Then leave the column untouched (to use it as a feature).\n",
    "Any scaling will be applied AFTER feature engineering step (as on of the latest steps of the pipeline)."
   ]
  },
  {
   "cell_type": "code",
   "execution_count": 7,
   "metadata": {
    "pycharm": {
     "name": "#%%\n"
    }
   },
   "outputs": [
    {
     "data": {
      "text/plain": [
       "[('cheques',\n",
       "  PipelineWithNames(steps=[('impute',\n",
       "                            SimpleImputerWithNames(fill_value=0,\n",
       "                                                   strategy='constant')),\n",
       "                           ('untouched', UntouchedTransformer())]),\n",
       "  ['cheques'])]"
      ]
     },
     "execution_count": 7,
     "metadata": {},
     "output_type": "execute_result"
    }
   ],
   "source": [
    "transformers.append(('cheques',\n",
    "                     custom.PipelineWithNames(\n",
    "                         [('impute', custom.SimpleImputerWithNames(strategy='constant', fill_value=0)),\n",
    "                          ('untouched', custom.UntouchedTransformer())]\n",
    "                     ),\n",
    "                     ['cheques']))\n",
    "transformers"
   ]
  },
  {
   "cell_type": "markdown",
   "metadata": {
    "pycharm": {
     "name": "#%% md\n"
    }
   },
   "source": [
    "## From-To\n",
    "Add new features:\n",
    "- How many days the listing was valid\n",
    "- Which month the property was added to the list\n",
    "- Which quarter the property was added to the list"
   ]
  },
  {
   "cell_type": "code",
   "execution_count": 8,
   "metadata": {
    "pycharm": {
     "name": "#%%\n"
    }
   },
   "outputs": [
    {
     "data": {
      "text/html": [
       "<div>\n",
       "<style scoped>\n",
       "    .dataframe tbody tr th:only-of-type {\n",
       "        vertical-align: middle;\n",
       "    }\n",
       "\n",
       "    .dataframe tbody tr th {\n",
       "        vertical-align: top;\n",
       "    }\n",
       "\n",
       "    .dataframe thead th {\n",
       "        text-align: right;\n",
       "    }\n",
       "</style>\n",
       "<table border=\"1\" class=\"dataframe\">\n",
       "  <thead>\n",
       "    <tr style=\"text-align: right;\">\n",
       "      <th></th>\n",
       "      <th>days</th>\n",
       "      <th>quarter</th>\n",
       "      <th>month</th>\n",
       "    </tr>\n",
       "    <tr>\n",
       "      <th>id</th>\n",
       "      <th></th>\n",
       "      <th></th>\n",
       "      <th></th>\n",
       "    </tr>\n",
       "  </thead>\n",
       "  <tbody>\n",
       "    <tr>\n",
       "      <th>6406935</th>\n",
       "      <td>8</td>\n",
       "      <td>4</td>\n",
       "      <td>10</td>\n",
       "    </tr>\n",
       "    <tr>\n",
       "      <th>5949553</th>\n",
       "      <td>106</td>\n",
       "      <td>4</td>\n",
       "      <td>10</td>\n",
       "    </tr>\n",
       "    <tr>\n",
       "      <th>6389258</th>\n",
       "      <td>2</td>\n",
       "      <td>4</td>\n",
       "      <td>10</td>\n",
       "    </tr>\n",
       "    <tr>\n",
       "      <th>6467389</th>\n",
       "      <td>45</td>\n",
       "      <td>4</td>\n",
       "      <td>10</td>\n",
       "    </tr>\n",
       "    <tr>\n",
       "      <th>6479131</th>\n",
       "      <td>23</td>\n",
       "      <td>4</td>\n",
       "      <td>10</td>\n",
       "    </tr>\n",
       "  </tbody>\n",
       "</table>\n",
       "</div>"
      ],
      "text/plain": [
       "         days  quarter  month\n",
       "id                           \n",
       "6406935     8        4     10\n",
       "5949553   106        4     10\n",
       "6389258     2        4     10\n",
       "6467389    45        4     10\n",
       "6479131    23        4     10"
      ]
     },
     "execution_count": 8,
     "metadata": {},
     "output_type": "execute_result"
    }
   ],
   "source": [
    "transformers.append(('timing',\n",
    "                    custom.TimingTransformer(start='valid_from', end='valid_to'),\n",
    "                    ['valid_from', 'valid_to']))\n",
    "custom.TimingTransformer(start='valid_from', end='valid_to')\\\n",
    "    .fit_transform(listings[['valid_from', 'valid_to']]).head(5)"
   ]
  },
  {
   "cell_type": "markdown",
   "metadata": {
    "pycharm": {
     "name": "#%% md\n"
    }
   },
   "source": [
    "## Offer Type\n",
    "Offer type is not ordinal (offer type 1 is not worse than type 2)\n",
    "OneHotEncoding is required"
   ]
  },
  {
   "cell_type": "code",
   "execution_count": 9,
   "metadata": {
    "pycharm": {
     "name": "#%%\n"
    }
   },
   "outputs": [
    {
     "data": {
      "text/plain": [
       "array([[1., 0.],\n",
       "       [1., 0.],\n",
       "       [1., 0.],\n",
       "       ...,\n",
       "       [0., 1.],\n",
       "       [0., 1.],\n",
       "       [0., 1.]])"
      ]
     },
     "execution_count": 9,
     "metadata": {},
     "output_type": "execute_result"
    }
   ],
   "source": [
    "transformers.append(('offer_type',\n",
    "                     OneHotEncoder(sparse=False, handle_unknown='error'),\n",
    "                     ['offer_type']))\n",
    "OneHotEncoder(sparse=False, handle_unknown='error').fit_transform(listings[['offer_type']])"
   ]
  },
  {
   "cell_type": "markdown",
   "metadata": {
    "pycharm": {
     "name": "#%% md\n"
    }
   },
   "source": [
    "## Bedrooms & Bathrooms\n",
    "Bedrooms and bathrooms are definitely ordinal (2 is better than 1)\n",
    "Add 3 features:\n",
    "- Bathrooms\n",
    "- Bedrooms\n",
    "- Bathrooms/Bedrooms ratio"
   ]
  },
  {
   "cell_type": "code",
   "execution_count": 10,
   "metadata": {
    "pycharm": {
     "name": "#%%\n"
    }
   },
   "outputs": [
    {
     "data": {
      "text/html": [
       "<div>\n",
       "<style scoped>\n",
       "    .dataframe tbody tr th:only-of-type {\n",
       "        vertical-align: middle;\n",
       "    }\n",
       "\n",
       "    .dataframe tbody tr th {\n",
       "        vertical-align: top;\n",
       "    }\n",
       "\n",
       "    .dataframe thead th {\n",
       "        text-align: right;\n",
       "    }\n",
       "</style>\n",
       "<table border=\"1\" class=\"dataframe\">\n",
       "  <thead>\n",
       "    <tr style=\"text-align: right;\">\n",
       "      <th></th>\n",
       "      <th>ratio</th>\n",
       "    </tr>\n",
       "    <tr>\n",
       "      <th>id</th>\n",
       "      <th></th>\n",
       "    </tr>\n",
       "  </thead>\n",
       "  <tbody>\n",
       "    <tr>\n",
       "      <th>6406935</th>\n",
       "      <td>1.333333</td>\n",
       "    </tr>\n",
       "    <tr>\n",
       "      <th>5949553</th>\n",
       "      <td>1.000000</td>\n",
       "    </tr>\n",
       "    <tr>\n",
       "      <th>6389258</th>\n",
       "      <td>1.000000</td>\n",
       "    </tr>\n",
       "    <tr>\n",
       "      <th>6467389</th>\n",
       "      <td>1.500000</td>\n",
       "    </tr>\n",
       "    <tr>\n",
       "      <th>6479131</th>\n",
       "      <td>1.500000</td>\n",
       "    </tr>\n",
       "  </tbody>\n",
       "</table>\n",
       "</div>"
      ],
      "text/plain": [
       "            ratio\n",
       "id               \n",
       "6406935  1.333333\n",
       "5949553  1.000000\n",
       "6389258  1.000000\n",
       "6467389  1.500000\n",
       "6479131  1.500000"
      ]
     },
     "execution_count": 10,
     "metadata": {},
     "output_type": "execute_result"
    }
   ],
   "source": [
    "transformers.append(('bedrooms',\n",
    "                     custom.UntouchedTransformer(),\n",
    "                     ['bedrooms']))\n",
    "transformers.append(('bathrooms',\n",
    "                     custom.UntouchedTransformer(),\n",
    "                     ['bathrooms']))\n",
    "transformers.append(('bathrooms_bedrooms',\n",
    "                     custom.BathBedRatioTransformer('bathrooms', 'bedrooms'),\n",
    "                     ['bathrooms', 'bedrooms']))\n",
    "custom.BathBedRatioTransformer('bathrooms', 'bedrooms')\\\n",
    "    .fit_transform(listings[['bathrooms', 'bedrooms']]).head(5)"
   ]
  },
  {
   "cell_type": "markdown",
   "metadata": {
    "pycharm": {
     "name": "#%% md\n"
    }
   },
   "source": [
    "## SqFt\n",
    "The feature stays unchanged"
   ]
  },
  {
   "cell_type": "code",
   "execution_count": 11,
   "metadata": {
    "pycharm": {
     "name": "#%%\n"
    }
   },
   "outputs": [],
   "source": [
    "transformers.append(('sqft',\n",
    "                     custom.UntouchedTransformer(),\n",
    "                     ['sqft']))"
   ]
  },
  {
   "cell_type": "markdown",
   "metadata": {
    "pycharm": {
     "name": "#%% md\n"
    }
   },
   "source": [
    "## GeoSpatial\n",
    "Area, most likely, affects the price.\n",
    "Use Uber's H3 hexagons to split by area. (More on h3: https://github.com/uber/h3)\n",
    "Add 4 new features:\n",
    "- Hex-Resolution 6\n",
    "- Hex-Resolution 7\n",
    "- Hex-Resolution 8\n",
    "- Hex-Resolution 9\n",
    "Example of the hexagons: https://observablehq.com/@sw1227/h3-index-visualizer"
   ]
  },
  {
   "cell_type": "code",
   "execution_count": 12,
   "metadata": {
    "pycharm": {
     "name": "#%%\n"
    }
   },
   "outputs": [
    {
     "data": {
      "text/html": [
       "<div>\n",
       "<style scoped>\n",
       "    .dataframe tbody tr th:only-of-type {\n",
       "        vertical-align: middle;\n",
       "    }\n",
       "\n",
       "    .dataframe tbody tr th {\n",
       "        vertical-align: top;\n",
       "    }\n",
       "\n",
       "    .dataframe thead th {\n",
       "        text-align: right;\n",
       "    }\n",
       "</style>\n",
       "<table border=\"1\" class=\"dataframe\">\n",
       "  <thead>\n",
       "    <tr style=\"text-align: right;\">\n",
       "      <th></th>\n",
       "      <th>hexagon_6</th>\n",
       "      <th>hexagon_7</th>\n",
       "      <th>hexagon_8</th>\n",
       "      <th>hexagon_9</th>\n",
       "    </tr>\n",
       "    <tr>\n",
       "      <th>id</th>\n",
       "      <th></th>\n",
       "      <th></th>\n",
       "      <th></th>\n",
       "      <th></th>\n",
       "    </tr>\n",
       "  </thead>\n",
       "  <tbody>\n",
       "    <tr>\n",
       "      <th>6406935</th>\n",
       "      <td>604672105132326911</td>\n",
       "      <td>609175704692588543</td>\n",
       "      <td>613679304317861887</td>\n",
       "      <td>618182903943397375</td>\n",
       "    </tr>\n",
       "    <tr>\n",
       "      <th>5949553</th>\n",
       "      <td>604672104863891455</td>\n",
       "      <td>609175704407375871</td>\n",
       "      <td>613679304030552063</td>\n",
       "      <td>618182903656611839</td>\n",
       "    </tr>\n",
       "    <tr>\n",
       "      <th>6389258</th>\n",
       "      <td>604672103790149631</td>\n",
       "      <td>609175703367188479</td>\n",
       "      <td>613679302990364671</td>\n",
       "      <td>618182902617473023</td>\n",
       "    </tr>\n",
       "    <tr>\n",
       "      <th>6467389</th>\n",
       "      <td>604672900909236223</td>\n",
       "      <td>609176500435943423</td>\n",
       "      <td>613680100061216767</td>\n",
       "      <td>618183699687276543</td>\n",
       "    </tr>\n",
       "    <tr>\n",
       "      <th>6479131</th>\n",
       "      <td>604672105266544639</td>\n",
       "      <td>609175704776474623</td>\n",
       "      <td>613679304401747967</td>\n",
       "      <td>618182904027283455</td>\n",
       "    </tr>\n",
       "  </tbody>\n",
       "</table>\n",
       "</div>"
      ],
      "text/plain": [
       "                  hexagon_6           hexagon_7           hexagon_8  \\\n",
       "id                                                                    \n",
       "6406935  604672105132326911  609175704692588543  613679304317861887   \n",
       "5949553  604672104863891455  609175704407375871  613679304030552063   \n",
       "6389258  604672103790149631  609175703367188479  613679302990364671   \n",
       "6467389  604672900909236223  609176500435943423  613680100061216767   \n",
       "6479131  604672105266544639  609175704776474623  613679304401747967   \n",
       "\n",
       "                  hexagon_9  \n",
       "id                           \n",
       "6406935  618182903943397375  \n",
       "5949553  618182903656611839  \n",
       "6389258  618182902617473023  \n",
       "6467389  618183699687276543  \n",
       "6479131  618182904027283455  "
      ]
     },
     "execution_count": 12,
     "metadata": {},
     "output_type": "execute_result"
    }
   ],
   "source": [
    "transformers.append(('h3_areas',\n",
    "                     custom.H3AreasTransformer(),\n",
    "                     ['latitude', 'longitude']))\n",
    "custom.H3AreasTransformer().fit_transform(listings[['latitude', 'longitude']]).head(5)"
   ]
  },
  {
   "cell_type": "markdown",
   "metadata": {
    "pycharm": {
     "name": "#%% md\n"
    }
   },
   "source": [
    "## Price per SqFt per Area\n",
    "! Attention ! Here we must be very very careful. Aggregations with target variables is\n",
    "one of the MOST frequent reasons of Data Leaks.\n",
    "For example in the pipeline we compute Global Average for the whole Training Set. Then, during\n",
    "the Cross Validation, the information about the validation sets is gonna be leaked (coz it's already stored\n",
    "in the aggregation - average).\n",
    "I've seen this mistake so many times on Kaggle."
   ]
  },
  {
   "cell_type": "code",
   "execution_count": 13,
   "metadata": {
    "pycharm": {
     "name": "#%%\n"
    }
   },
   "outputs": [
    {
     "data": {
      "text/html": [
       "<div>\n",
       "<style scoped>\n",
       "    .dataframe tbody tr th:only-of-type {\n",
       "        vertical-align: middle;\n",
       "    }\n",
       "\n",
       "    .dataframe tbody tr th {\n",
       "        vertical-align: top;\n",
       "    }\n",
       "\n",
       "    .dataframe thead th {\n",
       "        text-align: right;\n",
       "    }\n",
       "</style>\n",
       "<table border=\"1\" class=\"dataframe\">\n",
       "  <thead>\n",
       "    <tr style=\"text-align: right;\">\n",
       "      <th></th>\n",
       "      <th>hexagon_6_ppa</th>\n",
       "      <th>hexagon_7_ppa</th>\n",
       "      <th>hexagon_8_ppa</th>\n",
       "      <th>hexagon_9_ppa</th>\n",
       "    </tr>\n",
       "    <tr>\n",
       "      <th>id</th>\n",
       "      <th></th>\n",
       "      <th></th>\n",
       "      <th></th>\n",
       "      <th></th>\n",
       "    </tr>\n",
       "  </thead>\n",
       "  <tbody>\n",
       "    <tr>\n",
       "      <th>6406935</th>\n",
       "      <td>1163.0</td>\n",
       "      <td>1120.0</td>\n",
       "      <td>1184.0</td>\n",
       "      <td>2278.0</td>\n",
       "    </tr>\n",
       "    <tr>\n",
       "      <th>5949553</th>\n",
       "      <td>4321.0</td>\n",
       "      <td>5716.0</td>\n",
       "      <td>18031.0</td>\n",
       "      <td>1150.0</td>\n",
       "    </tr>\n",
       "    <tr>\n",
       "      <th>6389258</th>\n",
       "      <td>542.0</td>\n",
       "      <td>445.0</td>\n",
       "      <td>509.0</td>\n",
       "      <td>511.0</td>\n",
       "    </tr>\n",
       "    <tr>\n",
       "      <th>6467389</th>\n",
       "      <td>1141.0</td>\n",
       "      <td>898.0</td>\n",
       "      <td>937.0</td>\n",
       "      <td>566.0</td>\n",
       "    </tr>\n",
       "    <tr>\n",
       "      <th>6479131</th>\n",
       "      <td>1225.0</td>\n",
       "      <td>856.0</td>\n",
       "      <td>1477.0</td>\n",
       "      <td>1498.0</td>\n",
       "    </tr>\n",
       "  </tbody>\n",
       "</table>\n",
       "</div>"
      ],
      "text/plain": [
       "         hexagon_6_ppa  hexagon_7_ppa  hexagon_8_ppa  hexagon_9_ppa\n",
       "id                                                                 \n",
       "6406935         1163.0         1120.0         1184.0         2278.0\n",
       "5949553         4321.0         5716.0        18031.0         1150.0\n",
       "6389258          542.0          445.0          509.0          511.0\n",
       "6467389         1141.0          898.0          937.0          566.0\n",
       "6479131         1225.0          856.0         1477.0         1498.0"
      ]
     },
     "execution_count": 13,
     "metadata": {},
     "output_type": "execute_result"
    }
   ],
   "source": [
    "transformers.append(('h3_ppa',\n",
    "                     custom.H3PricePerAreaTransformer('price', 'sqft'),\n",
    "                     ['latitude', 'longitude', 'price', 'sqft']))\n",
    "custom.H3PricePerAreaTransformer('price', 'sqft')\\\n",
    "    .fit_transform(listings[['latitude', 'longitude', 'price', 'sqft']]).head(5)"
   ]
  },
  {
   "cell_type": "markdown",
   "metadata": {
    "pycharm": {
     "name": "#%% md\n"
    }
   },
   "source": [
    "## Objects Nearby\n",
    "We have list of important objects (metro, tram etc).\n",
    "Add new features: how many important objects are nearby (in the same Hexagon with the property)"
   ]
  },
  {
   "cell_type": "code",
   "execution_count": 14,
   "metadata": {
    "pycharm": {
     "name": "#%%\n"
    }
   },
   "outputs": [
    {
     "data": {
      "text/html": [
       "<div>\n",
       "<style scoped>\n",
       "    .dataframe tbody tr th:only-of-type {\n",
       "        vertical-align: middle;\n",
       "    }\n",
       "\n",
       "    .dataframe tbody tr th {\n",
       "        vertical-align: top;\n",
       "    }\n",
       "\n",
       "    .dataframe thead th {\n",
       "        text-align: right;\n",
       "    }\n",
       "</style>\n",
       "<table border=\"1\" class=\"dataframe\">\n",
       "  <thead>\n",
       "    <tr style=\"text-align: right;\">\n",
       "      <th></th>\n",
       "      <th>landmark_hexagon_6</th>\n",
       "      <th>metro_hexagon_6</th>\n",
       "      <th>tram_hexagon_6</th>\n",
       "      <th>landmark_hexagon_7</th>\n",
       "      <th>metro_hexagon_7</th>\n",
       "      <th>tram_hexagon_7</th>\n",
       "      <th>landmark_hexagon_8</th>\n",
       "      <th>metro_hexagon_8</th>\n",
       "      <th>tram_hexagon_8</th>\n",
       "      <th>landmark_hexagon_9</th>\n",
       "      <th>metro_hexagon_9</th>\n",
       "      <th>tram_hexagon_9</th>\n",
       "    </tr>\n",
       "    <tr>\n",
       "      <th>id</th>\n",
       "      <th></th>\n",
       "      <th></th>\n",
       "      <th></th>\n",
       "      <th></th>\n",
       "      <th></th>\n",
       "      <th></th>\n",
       "      <th></th>\n",
       "      <th></th>\n",
       "      <th></th>\n",
       "      <th></th>\n",
       "      <th></th>\n",
       "      <th></th>\n",
       "    </tr>\n",
       "  </thead>\n",
       "  <tbody>\n",
       "    <tr>\n",
       "      <th>6406935</th>\n",
       "      <td>3</td>\n",
       "      <td>5</td>\n",
       "      <td>0</td>\n",
       "      <td>1</td>\n",
       "      <td>0</td>\n",
       "      <td>0</td>\n",
       "      <td>0</td>\n",
       "      <td>0</td>\n",
       "      <td>0</td>\n",
       "      <td>0</td>\n",
       "      <td>0</td>\n",
       "      <td>0</td>\n",
       "    </tr>\n",
       "    <tr>\n",
       "      <th>5949553</th>\n",
       "      <td>0</td>\n",
       "      <td>0</td>\n",
       "      <td>0</td>\n",
       "      <td>0</td>\n",
       "      <td>0</td>\n",
       "      <td>0</td>\n",
       "      <td>0</td>\n",
       "      <td>0</td>\n",
       "      <td>0</td>\n",
       "      <td>0</td>\n",
       "      <td>0</td>\n",
       "      <td>0</td>\n",
       "    </tr>\n",
       "    <tr>\n",
       "      <th>6389258</th>\n",
       "      <td>0</td>\n",
       "      <td>0</td>\n",
       "      <td>0</td>\n",
       "      <td>0</td>\n",
       "      <td>0</td>\n",
       "      <td>0</td>\n",
       "      <td>0</td>\n",
       "      <td>0</td>\n",
       "      <td>0</td>\n",
       "      <td>0</td>\n",
       "      <td>0</td>\n",
       "      <td>0</td>\n",
       "    </tr>\n",
       "    <tr>\n",
       "      <th>6467389</th>\n",
       "      <td>0</td>\n",
       "      <td>4</td>\n",
       "      <td>0</td>\n",
       "      <td>0</td>\n",
       "      <td>0</td>\n",
       "      <td>0</td>\n",
       "      <td>0</td>\n",
       "      <td>0</td>\n",
       "      <td>0</td>\n",
       "      <td>0</td>\n",
       "      <td>0</td>\n",
       "      <td>0</td>\n",
       "    </tr>\n",
       "    <tr>\n",
       "      <th>6479131</th>\n",
       "      <td>2</td>\n",
       "      <td>3</td>\n",
       "      <td>0</td>\n",
       "      <td>0</td>\n",
       "      <td>0</td>\n",
       "      <td>0</td>\n",
       "      <td>0</td>\n",
       "      <td>0</td>\n",
       "      <td>0</td>\n",
       "      <td>0</td>\n",
       "      <td>0</td>\n",
       "      <td>0</td>\n",
       "    </tr>\n",
       "  </tbody>\n",
       "</table>\n",
       "</div>"
      ],
      "text/plain": [
       "         landmark_hexagon_6  metro_hexagon_6  tram_hexagon_6  \\\n",
       "id                                                             \n",
       "6406935                   3                5               0   \n",
       "5949553                   0                0               0   \n",
       "6389258                   0                0               0   \n",
       "6467389                   0                4               0   \n",
       "6479131                   2                3               0   \n",
       "\n",
       "         landmark_hexagon_7  metro_hexagon_7  tram_hexagon_7  \\\n",
       "id                                                             \n",
       "6406935                   1                0               0   \n",
       "5949553                   0                0               0   \n",
       "6389258                   0                0               0   \n",
       "6467389                   0                0               0   \n",
       "6479131                   0                0               0   \n",
       "\n",
       "         landmark_hexagon_8  metro_hexagon_8  tram_hexagon_8  \\\n",
       "id                                                             \n",
       "6406935                   0                0               0   \n",
       "5949553                   0                0               0   \n",
       "6389258                   0                0               0   \n",
       "6467389                   0                0               0   \n",
       "6479131                   0                0               0   \n",
       "\n",
       "         landmark_hexagon_9  metro_hexagon_9  tram_hexagon_9  \n",
       "id                                                            \n",
       "6406935                   0                0               0  \n",
       "5949553                   0                0               0  \n",
       "6389258                   0                0               0  \n",
       "6467389                   0                0               0  \n",
       "6479131                   0                0               0  "
      ]
     },
     "execution_count": 14,
     "metadata": {},
     "output_type": "execute_result"
    }
   ],
   "source": [
    "transformers.append(('h3_nearby',\n",
    "                     custom.H3NearbyTransformer(),\n",
    "                     ['latitude', 'longitude']))\n",
    "custom.H3NearbyTransformer().fit_transform(listings[['latitude', 'longitude']]).head(5)"
   ]
  },
  {
   "cell_type": "code",
   "execution_count": 14,
   "metadata": {
    "pycharm": {
     "name": "#%%\n"
    }
   },
   "outputs": [],
   "source": []
  },
  {
   "cell_type": "markdown",
   "metadata": {},
   "source": [
    "## Pipeline"
   ]
  },
  {
   "cell_type": "markdown",
   "metadata": {
    "pycharm": {
     "name": "#%% md\n"
    }
   },
   "source": [
    "#### Transformers"
   ]
  },
  {
   "cell_type": "code",
   "execution_count": 15,
   "metadata": {
    "pycharm": {
     "name": "#%%\n"
    }
   },
   "outputs": [
    {
     "data": {
      "text/plain": [
       "[('cheques',\n",
       "  PipelineWithNames(steps=[('impute',\n",
       "                            SimpleImputerWithNames(fill_value=0,\n",
       "                                                   strategy='constant')),\n",
       "                           ('untouched', UntouchedTransformer())]),\n",
       "  ['cheques']),\n",
       " ('timing',\n",
       "  TimingTransformer(end='valid_to', start='valid_from'),\n",
       "  ['valid_from', 'valid_to']),\n",
       " ('offer_type', OneHotEncoder(sparse=False), ['offer_type']),\n",
       " ('bedrooms', UntouchedTransformer(), ['bedrooms']),\n",
       " ('bathrooms', UntouchedTransformer(), ['bathrooms']),\n",
       " ('bathrooms_bedrooms',\n",
       "  BathBedRatioTransformer(bathrooms='bathrooms', bedrooms='bedrooms'),\n",
       "  ['bathrooms', 'bedrooms']),\n",
       " ('sqft', UntouchedTransformer(), ['sqft']),\n",
       " ('h3_areas', H3AreasTransformer(), ['latitude', 'longitude']),\n",
       " ('h3_ppa',\n",
       "  H3PricePerAreaTransformer(price='price', sqft='sqft'),\n",
       "  ['latitude', 'longitude', 'price', 'sqft']),\n",
       " ('h3_nearby', H3NearbyTransformer(), ['latitude', 'longitude'])]"
      ]
     },
     "execution_count": 15,
     "metadata": {},
     "output_type": "execute_result"
    }
   ],
   "source": [
    "transformers"
   ]
  },
  {
   "cell_type": "markdown",
   "metadata": {
    "pycharm": {
     "name": "#%% md\n"
    }
   },
   "source": [
    "#### Final Pipeline & Feature Names"
   ]
  },
  {
   "cell_type": "code",
   "execution_count": 16,
   "metadata": {
    "pycharm": {
     "name": "#%%\n"
    }
   },
   "outputs": [
    {
     "data": {
      "text/plain": [
       "['cheques__untouched',\n",
       " 'timing__days',\n",
       " 'timing__quarter',\n",
       " 'timing__month',\n",
       " 'offer_type__x0_1',\n",
       " 'offer_type__x0_2',\n",
       " 'bedrooms__untouched',\n",
       " 'bathrooms__untouched',\n",
       " 'bathrooms_bedrooms__ratio',\n",
       " 'sqft__untouched',\n",
       " 'h3_areas__hexagon_6',\n",
       " 'h3_areas__hexagon_7',\n",
       " 'h3_areas__hexagon_8',\n",
       " 'h3_areas__hexagon_9',\n",
       " 'h3_ppa__hexagon_6_ppa',\n",
       " 'h3_ppa__hexagon_7_ppa',\n",
       " 'h3_ppa__hexagon_8_ppa',\n",
       " 'h3_ppa__hexagon_9_ppa',\n",
       " 'h3_nearby__landmark_hexagon_6',\n",
       " 'h3_nearby__metro_hexagon_6',\n",
       " 'h3_nearby__tram_hexagon_6',\n",
       " 'h3_nearby__landmark_hexagon_7',\n",
       " 'h3_nearby__metro_hexagon_7',\n",
       " 'h3_nearby__tram_hexagon_7',\n",
       " 'h3_nearby__landmark_hexagon_8',\n",
       " 'h3_nearby__metro_hexagon_8',\n",
       " 'h3_nearby__tram_hexagon_8',\n",
       " 'h3_nearby__landmark_hexagon_9',\n",
       " 'h3_nearby__metro_hexagon_9',\n",
       " 'h3_nearby__tram_hexagon_9']"
      ]
     },
     "execution_count": 16,
     "metadata": {},
     "output_type": "execute_result"
    }
   ],
   "source": [
    "pipeline = ColumnTransformer(transformers, remainder='drop', n_jobs=-1)\n",
    "pipeline.fit(listings)\n",
    "pipeline.get_feature_names()"
   ]
  },
  {
   "cell_type": "markdown",
   "metadata": {
    "pycharm": {
     "name": "#%% md\n"
    }
   },
   "source": [
    "#### Example of features"
   ]
  },
  {
   "cell_type": "code",
   "execution_count": 17,
   "metadata": {
    "pycharm": {
     "name": "#%%\n"
    }
   },
   "outputs": [
    {
     "data": {
      "text/html": [
       "<div>\n",
       "<style scoped>\n",
       "    .dataframe tbody tr th:only-of-type {\n",
       "        vertical-align: middle;\n",
       "    }\n",
       "\n",
       "    .dataframe tbody tr th {\n",
       "        vertical-align: top;\n",
       "    }\n",
       "\n",
       "    .dataframe thead th {\n",
       "        text-align: right;\n",
       "    }\n",
       "</style>\n",
       "<table border=\"1\" class=\"dataframe\">\n",
       "  <thead>\n",
       "    <tr style=\"text-align: right;\">\n",
       "      <th></th>\n",
       "      <th>cheques__untouched</th>\n",
       "      <th>timing__days</th>\n",
       "      <th>timing__quarter</th>\n",
       "      <th>timing__month</th>\n",
       "      <th>offer_type__x0_1</th>\n",
       "      <th>offer_type__x0_2</th>\n",
       "      <th>bedrooms__untouched</th>\n",
       "      <th>bathrooms__untouched</th>\n",
       "      <th>bathrooms_bedrooms__ratio</th>\n",
       "      <th>sqft__untouched</th>\n",
       "      <th>...</th>\n",
       "      <th>h3_nearby__tram_hexagon_6</th>\n",
       "      <th>h3_nearby__landmark_hexagon_7</th>\n",
       "      <th>h3_nearby__metro_hexagon_7</th>\n",
       "      <th>h3_nearby__tram_hexagon_7</th>\n",
       "      <th>h3_nearby__landmark_hexagon_8</th>\n",
       "      <th>h3_nearby__metro_hexagon_8</th>\n",
       "      <th>h3_nearby__tram_hexagon_8</th>\n",
       "      <th>h3_nearby__landmark_hexagon_9</th>\n",
       "      <th>h3_nearby__metro_hexagon_9</th>\n",
       "      <th>h3_nearby__tram_hexagon_9</th>\n",
       "    </tr>\n",
       "  </thead>\n",
       "  <tbody>\n",
       "    <tr>\n",
       "      <th>0</th>\n",
       "      <td>0.0</td>\n",
       "      <td>8.0</td>\n",
       "      <td>4.0</td>\n",
       "      <td>10.0</td>\n",
       "      <td>1.0</td>\n",
       "      <td>0.0</td>\n",
       "      <td>3.0</td>\n",
       "      <td>4.0</td>\n",
       "      <td>1.333333</td>\n",
       "      <td>1362.0</td>\n",
       "      <td>...</td>\n",
       "      <td>0.0</td>\n",
       "      <td>1.0</td>\n",
       "      <td>0.0</td>\n",
       "      <td>0.0</td>\n",
       "      <td>0.0</td>\n",
       "      <td>0.0</td>\n",
       "      <td>0.0</td>\n",
       "      <td>0.0</td>\n",
       "      <td>0.0</td>\n",
       "      <td>0.0</td>\n",
       "    </tr>\n",
       "    <tr>\n",
       "      <th>1</th>\n",
       "      <td>0.0</td>\n",
       "      <td>106.0</td>\n",
       "      <td>4.0</td>\n",
       "      <td>10.0</td>\n",
       "      <td>1.0</td>\n",
       "      <td>0.0</td>\n",
       "      <td>7.0</td>\n",
       "      <td>7.0</td>\n",
       "      <td>1.000000</td>\n",
       "      <td>16000.0</td>\n",
       "      <td>...</td>\n",
       "      <td>0.0</td>\n",
       "      <td>0.0</td>\n",
       "      <td>0.0</td>\n",
       "      <td>0.0</td>\n",
       "      <td>0.0</td>\n",
       "      <td>0.0</td>\n",
       "      <td>0.0</td>\n",
       "      <td>0.0</td>\n",
       "      <td>0.0</td>\n",
       "      <td>0.0</td>\n",
       "    </tr>\n",
       "    <tr>\n",
       "      <th>2</th>\n",
       "      <td>0.0</td>\n",
       "      <td>2.0</td>\n",
       "      <td>4.0</td>\n",
       "      <td>10.0</td>\n",
       "      <td>1.0</td>\n",
       "      <td>0.0</td>\n",
       "      <td>6.0</td>\n",
       "      <td>6.0</td>\n",
       "      <td>1.000000</td>\n",
       "      <td>3600.0</td>\n",
       "      <td>...</td>\n",
       "      <td>0.0</td>\n",
       "      <td>0.0</td>\n",
       "      <td>0.0</td>\n",
       "      <td>0.0</td>\n",
       "      <td>0.0</td>\n",
       "      <td>0.0</td>\n",
       "      <td>0.0</td>\n",
       "      <td>0.0</td>\n",
       "      <td>0.0</td>\n",
       "      <td>0.0</td>\n",
       "    </tr>\n",
       "    <tr>\n",
       "      <th>3</th>\n",
       "      <td>12.0</td>\n",
       "      <td>45.0</td>\n",
       "      <td>4.0</td>\n",
       "      <td>10.0</td>\n",
       "      <td>0.0</td>\n",
       "      <td>1.0</td>\n",
       "      <td>2.0</td>\n",
       "      <td>3.0</td>\n",
       "      <td>1.500000</td>\n",
       "      <td>981.0</td>\n",
       "      <td>...</td>\n",
       "      <td>0.0</td>\n",
       "      <td>0.0</td>\n",
       "      <td>0.0</td>\n",
       "      <td>0.0</td>\n",
       "      <td>0.0</td>\n",
       "      <td>0.0</td>\n",
       "      <td>0.0</td>\n",
       "      <td>0.0</td>\n",
       "      <td>0.0</td>\n",
       "      <td>0.0</td>\n",
       "    </tr>\n",
       "    <tr>\n",
       "      <th>4</th>\n",
       "      <td>0.0</td>\n",
       "      <td>23.0</td>\n",
       "      <td>4.0</td>\n",
       "      <td>10.0</td>\n",
       "      <td>1.0</td>\n",
       "      <td>0.0</td>\n",
       "      <td>2.0</td>\n",
       "      <td>3.0</td>\n",
       "      <td>1.500000</td>\n",
       "      <td>860.0</td>\n",
       "      <td>...</td>\n",
       "      <td>0.0</td>\n",
       "      <td>0.0</td>\n",
       "      <td>0.0</td>\n",
       "      <td>0.0</td>\n",
       "      <td>0.0</td>\n",
       "      <td>0.0</td>\n",
       "      <td>0.0</td>\n",
       "      <td>0.0</td>\n",
       "      <td>0.0</td>\n",
       "      <td>0.0</td>\n",
       "    </tr>\n",
       "    <tr>\n",
       "      <th>...</th>\n",
       "      <td>...</td>\n",
       "      <td>...</td>\n",
       "      <td>...</td>\n",
       "      <td>...</td>\n",
       "      <td>...</td>\n",
       "      <td>...</td>\n",
       "      <td>...</td>\n",
       "      <td>...</td>\n",
       "      <td>...</td>\n",
       "      <td>...</td>\n",
       "      <td>...</td>\n",
       "      <td>...</td>\n",
       "      <td>...</td>\n",
       "      <td>...</td>\n",
       "      <td>...</td>\n",
       "      <td>...</td>\n",
       "      <td>...</td>\n",
       "      <td>...</td>\n",
       "      <td>...</td>\n",
       "      <td>...</td>\n",
       "      <td>...</td>\n",
       "    </tr>\n",
       "    <tr>\n",
       "      <th>59995</th>\n",
       "      <td>0.0</td>\n",
       "      <td>8.0</td>\n",
       "      <td>4.0</td>\n",
       "      <td>10.0</td>\n",
       "      <td>1.0</td>\n",
       "      <td>0.0</td>\n",
       "      <td>6.0</td>\n",
       "      <td>5.0</td>\n",
       "      <td>0.833333</td>\n",
       "      <td>4909.0</td>\n",
       "      <td>...</td>\n",
       "      <td>0.0</td>\n",
       "      <td>0.0</td>\n",
       "      <td>0.0</td>\n",
       "      <td>0.0</td>\n",
       "      <td>0.0</td>\n",
       "      <td>0.0</td>\n",
       "      <td>0.0</td>\n",
       "      <td>0.0</td>\n",
       "      <td>0.0</td>\n",
       "      <td>0.0</td>\n",
       "    </tr>\n",
       "    <tr>\n",
       "      <th>59996</th>\n",
       "      <td>0.0</td>\n",
       "      <td>23.0</td>\n",
       "      <td>4.0</td>\n",
       "      <td>10.0</td>\n",
       "      <td>0.0</td>\n",
       "      <td>1.0</td>\n",
       "      <td>4.0</td>\n",
       "      <td>4.0</td>\n",
       "      <td>1.000000</td>\n",
       "      <td>1900.0</td>\n",
       "      <td>...</td>\n",
       "      <td>7.0</td>\n",
       "      <td>0.0</td>\n",
       "      <td>1.0</td>\n",
       "      <td>2.0</td>\n",
       "      <td>0.0</td>\n",
       "      <td>1.0</td>\n",
       "      <td>2.0</td>\n",
       "      <td>0.0</td>\n",
       "      <td>0.0</td>\n",
       "      <td>0.0</td>\n",
       "    </tr>\n",
       "    <tr>\n",
       "      <th>59997</th>\n",
       "      <td>0.0</td>\n",
       "      <td>20.0</td>\n",
       "      <td>4.0</td>\n",
       "      <td>10.0</td>\n",
       "      <td>0.0</td>\n",
       "      <td>1.0</td>\n",
       "      <td>2.0</td>\n",
       "      <td>2.0</td>\n",
       "      <td>1.000000</td>\n",
       "      <td>1603.0</td>\n",
       "      <td>...</td>\n",
       "      <td>7.0</td>\n",
       "      <td>0.0</td>\n",
       "      <td>1.0</td>\n",
       "      <td>2.0</td>\n",
       "      <td>0.0</td>\n",
       "      <td>0.0</td>\n",
       "      <td>0.0</td>\n",
       "      <td>0.0</td>\n",
       "      <td>0.0</td>\n",
       "      <td>1.0</td>\n",
       "    </tr>\n",
       "    <tr>\n",
       "      <th>59998</th>\n",
       "      <td>0.0</td>\n",
       "      <td>4.0</td>\n",
       "      <td>4.0</td>\n",
       "      <td>10.0</td>\n",
       "      <td>0.0</td>\n",
       "      <td>1.0</td>\n",
       "      <td>3.0</td>\n",
       "      <td>4.0</td>\n",
       "      <td>1.333333</td>\n",
       "      <td>1670.0</td>\n",
       "      <td>...</td>\n",
       "      <td>7.0</td>\n",
       "      <td>0.0</td>\n",
       "      <td>1.0</td>\n",
       "      <td>2.0</td>\n",
       "      <td>0.0</td>\n",
       "      <td>0.0</td>\n",
       "      <td>0.0</td>\n",
       "      <td>0.0</td>\n",
       "      <td>0.0</td>\n",
       "      <td>0.0</td>\n",
       "    </tr>\n",
       "    <tr>\n",
       "      <th>59999</th>\n",
       "      <td>0.0</td>\n",
       "      <td>7.0</td>\n",
       "      <td>4.0</td>\n",
       "      <td>10.0</td>\n",
       "      <td>0.0</td>\n",
       "      <td>1.0</td>\n",
       "      <td>2.0</td>\n",
       "      <td>3.0</td>\n",
       "      <td>1.500000</td>\n",
       "      <td>915.0</td>\n",
       "      <td>...</td>\n",
       "      <td>7.0</td>\n",
       "      <td>1.0</td>\n",
       "      <td>1.0</td>\n",
       "      <td>5.0</td>\n",
       "      <td>0.0</td>\n",
       "      <td>0.0</td>\n",
       "      <td>1.0</td>\n",
       "      <td>0.0</td>\n",
       "      <td>0.0</td>\n",
       "      <td>1.0</td>\n",
       "    </tr>\n",
       "  </tbody>\n",
       "</table>\n",
       "<p>60000 rows × 30 columns</p>\n",
       "</div>"
      ],
      "text/plain": [
       "       cheques__untouched  timing__days  timing__quarter  timing__month  \\\n",
       "0                     0.0           8.0              4.0           10.0   \n",
       "1                     0.0         106.0              4.0           10.0   \n",
       "2                     0.0           2.0              4.0           10.0   \n",
       "3                    12.0          45.0              4.0           10.0   \n",
       "4                     0.0          23.0              4.0           10.0   \n",
       "...                   ...           ...              ...            ...   \n",
       "59995                 0.0           8.0              4.0           10.0   \n",
       "59996                 0.0          23.0              4.0           10.0   \n",
       "59997                 0.0          20.0              4.0           10.0   \n",
       "59998                 0.0           4.0              4.0           10.0   \n",
       "59999                 0.0           7.0              4.0           10.0   \n",
       "\n",
       "       offer_type__x0_1  offer_type__x0_2  bedrooms__untouched  \\\n",
       "0                   1.0               0.0                  3.0   \n",
       "1                   1.0               0.0                  7.0   \n",
       "2                   1.0               0.0                  6.0   \n",
       "3                   0.0               1.0                  2.0   \n",
       "4                   1.0               0.0                  2.0   \n",
       "...                 ...               ...                  ...   \n",
       "59995               1.0               0.0                  6.0   \n",
       "59996               0.0               1.0                  4.0   \n",
       "59997               0.0               1.0                  2.0   \n",
       "59998               0.0               1.0                  3.0   \n",
       "59999               0.0               1.0                  2.0   \n",
       "\n",
       "       bathrooms__untouched  bathrooms_bedrooms__ratio  sqft__untouched  ...  \\\n",
       "0                       4.0                   1.333333           1362.0  ...   \n",
       "1                       7.0                   1.000000          16000.0  ...   \n",
       "2                       6.0                   1.000000           3600.0  ...   \n",
       "3                       3.0                   1.500000            981.0  ...   \n",
       "4                       3.0                   1.500000            860.0  ...   \n",
       "...                     ...                        ...              ...  ...   \n",
       "59995                   5.0                   0.833333           4909.0  ...   \n",
       "59996                   4.0                   1.000000           1900.0  ...   \n",
       "59997                   2.0                   1.000000           1603.0  ...   \n",
       "59998                   4.0                   1.333333           1670.0  ...   \n",
       "59999                   3.0                   1.500000            915.0  ...   \n",
       "\n",
       "       h3_nearby__tram_hexagon_6  h3_nearby__landmark_hexagon_7  \\\n",
       "0                            0.0                            1.0   \n",
       "1                            0.0                            0.0   \n",
       "2                            0.0                            0.0   \n",
       "3                            0.0                            0.0   \n",
       "4                            0.0                            0.0   \n",
       "...                          ...                            ...   \n",
       "59995                        0.0                            0.0   \n",
       "59996                        7.0                            0.0   \n",
       "59997                        7.0                            0.0   \n",
       "59998                        7.0                            0.0   \n",
       "59999                        7.0                            1.0   \n",
       "\n",
       "       h3_nearby__metro_hexagon_7  h3_nearby__tram_hexagon_7  \\\n",
       "0                             0.0                        0.0   \n",
       "1                             0.0                        0.0   \n",
       "2                             0.0                        0.0   \n",
       "3                             0.0                        0.0   \n",
       "4                             0.0                        0.0   \n",
       "...                           ...                        ...   \n",
       "59995                         0.0                        0.0   \n",
       "59996                         1.0                        2.0   \n",
       "59997                         1.0                        2.0   \n",
       "59998                         1.0                        2.0   \n",
       "59999                         1.0                        5.0   \n",
       "\n",
       "       h3_nearby__landmark_hexagon_8  h3_nearby__metro_hexagon_8  \\\n",
       "0                                0.0                         0.0   \n",
       "1                                0.0                         0.0   \n",
       "2                                0.0                         0.0   \n",
       "3                                0.0                         0.0   \n",
       "4                                0.0                         0.0   \n",
       "...                              ...                         ...   \n",
       "59995                            0.0                         0.0   \n",
       "59996                            0.0                         1.0   \n",
       "59997                            0.0                         0.0   \n",
       "59998                            0.0                         0.0   \n",
       "59999                            0.0                         0.0   \n",
       "\n",
       "       h3_nearby__tram_hexagon_8  h3_nearby__landmark_hexagon_9  \\\n",
       "0                            0.0                            0.0   \n",
       "1                            0.0                            0.0   \n",
       "2                            0.0                            0.0   \n",
       "3                            0.0                            0.0   \n",
       "4                            0.0                            0.0   \n",
       "...                          ...                            ...   \n",
       "59995                        0.0                            0.0   \n",
       "59996                        2.0                            0.0   \n",
       "59997                        0.0                            0.0   \n",
       "59998                        0.0                            0.0   \n",
       "59999                        1.0                            0.0   \n",
       "\n",
       "       h3_nearby__metro_hexagon_9  h3_nearby__tram_hexagon_9  \n",
       "0                             0.0                        0.0  \n",
       "1                             0.0                        0.0  \n",
       "2                             0.0                        0.0  \n",
       "3                             0.0                        0.0  \n",
       "4                             0.0                        0.0  \n",
       "...                           ...                        ...  \n",
       "59995                         0.0                        0.0  \n",
       "59996                         0.0                        0.0  \n",
       "59997                         0.0                        1.0  \n",
       "59998                         0.0                        0.0  \n",
       "59999                         0.0                        1.0  \n",
       "\n",
       "[60000 rows x 30 columns]"
      ]
     },
     "execution_count": 17,
     "metadata": {},
     "output_type": "execute_result"
    }
   ],
   "source": [
    "pd.DataFrame(pipeline.transform(listings), columns=pipeline.get_feature_names())"
   ]
  },
  {
   "cell_type": "markdown",
   "metadata": {},
   "source": [
    "#### Dump"
   ]
  },
  {
   "cell_type": "code",
   "execution_count": 18,
   "metadata": {
    "pycharm": {
     "name": "#%%\n"
    }
   },
   "outputs": [
    {
     "data": {
      "text/plain": [
       "['core/preprocessing/pipeline.joblib']"
      ]
     },
     "execution_count": 18,
     "metadata": {},
     "output_type": "execute_result"
    }
   ],
   "source": [
    "joblib.dump(pipeline, 'core/preprocessing/pipeline.joblib', protocol=4)"
   ]
  },
  {
   "cell_type": "markdown",
   "metadata": {
    "pycharm": {
     "name": "#%% md\n"
    }
   },
   "source": [
    "## What else could be done here?\n",
    "Possible features:\n",
    "- Address\n",
    "- Decompositors: PCA, ICA, tSVD, GRP\n",
    "- Distance in KM to important objects (metro etc). However in this case input space will grow\n",
    "to O(nxm), where n - properties, m - important objects\n",
    "- Distance (travel time) by car/foot/bike/public_transport to important objects.\n",
    "Travel time can be obtained from public API's.\n",
    "- It feels like there is something more to do with Timing (valid_from valid_to)\n",
    "- More Hexagons...  \n",
    "\n",
    "Possible improvements:\n",
    "- Optimize pipeline time\n",
    "- Refactor code in 'custom'"
   ]
  },
  {
   "cell_type": "code",
   "execution_count": null,
   "metadata": {
    "pycharm": {
     "name": "#%%\n"
    }
   },
   "outputs": [],
   "source": []
  }
 ],
 "metadata": {
  "kernelspec": {
   "display_name": "Python 3",
   "language": "python",
   "name": "python3"
  },
  "language_info": {
   "codemirror_mode": {
    "name": "ipython",
    "version": 3
   },
   "file_extension": ".py",
   "mimetype": "text/x-python",
   "name": "python",
   "nbconvert_exporter": "python",
   "pygments_lexer": "ipython3",
   "version": "3.7.9"
  }
 },
 "nbformat": 4,
 "nbformat_minor": 1
}
