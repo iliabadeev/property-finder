{
 "cells": [
  {
   "cell_type": "code",
   "execution_count": 2,
   "outputs": [
    {
     "name": "stdout",
     "output_type": "stream",
     "text": [
      "The autoreload extension is already loaded. To reload it, use:\n",
      "  %reload_ext autoreload\n"
     ]
    }
   ],
   "source": [
    "# get rid of the annoying ipython import cache\n",
    "%load_ext autoreload\n",
    "%autoreload 2"
   ],
   "metadata": {
    "collapsed": false,
    "pycharm": {
     "name": "#%%\n"
    }
   }
  },
  {
   "cell_type": "code",
   "execution_count": 3,
   "outputs": [],
   "source": [
    "# Python\n",
    "from __future__ import annotations\n",
    "# Internal\n",
    "from research.core.sources.dbms import DataBase"
   ],
   "metadata": {
    "collapsed": false,
    "pycharm": {
     "name": "#%%\n"
    }
   }
  },
  {
   "cell_type": "markdown",
   "source": [
    "## Initial Loading\n",
    "First we need to connect to the DB and get the data.\n",
    "I created a small wrapper for the Python Postgres driver.\n",
    "This wrapper adds a few 'syntactic sugar' methods to the interface + session control."
   ],
   "metadata": {
    "collapsed": false,
    "pycharm": {
     "name": "#%% md\n"
    }
   }
  },
  {
   "cell_type": "code",
   "execution_count": 4,
   "outputs": [],
   "source": [
    "database = DataBase()"
   ],
   "metadata": {
    "collapsed": false,
    "pycharm": {
     "name": "#%%\n"
    }
   }
  },
  {
   "cell_type": "markdown",
   "source": [
    "Get the first feeling of the data we have in the tables."
   ],
   "metadata": {
    "collapsed": false,
    "pycharm": {
     "name": "#%% md\n"
    }
   }
  },
  {
   "cell_type": "code",
   "execution_count": 5,
   "outputs": [
    {
     "data": {
      "text/plain": "    web_id      meta_valid_from_dts        meta_valid_to_dts feed_last_update  \\\n0  6406935  2018-10-27 17:36:30.000  2018-11-05 11:00:21.000                    \n\n   offering_type_id  property_type_id  bedroom_id  bathroom_id  property_sqft  \\\n0                 1                 1           3            4           1362   \n\n  property_cheques  property_price  transacted_after_a_month  \\\n0             None         2929842                         0   \n\n                          location_path_name_primary  coordinates_lat  \\\n0  Dubai,Downtown Dubai,The Address Residence Fou...          25.1949   \n\n   coordinates_lon  \n0          55.2827  ",
      "text/html": "<div>\n<style scoped>\n    .dataframe tbody tr th:only-of-type {\n        vertical-align: middle;\n    }\n\n    .dataframe tbody tr th {\n        vertical-align: top;\n    }\n\n    .dataframe thead th {\n        text-align: right;\n    }\n</style>\n<table border=\"1\" class=\"dataframe\">\n  <thead>\n    <tr style=\"text-align: right;\">\n      <th></th>\n      <th>web_id</th>\n      <th>meta_valid_from_dts</th>\n      <th>meta_valid_to_dts</th>\n      <th>feed_last_update</th>\n      <th>offering_type_id</th>\n      <th>property_type_id</th>\n      <th>bedroom_id</th>\n      <th>bathroom_id</th>\n      <th>property_sqft</th>\n      <th>property_cheques</th>\n      <th>property_price</th>\n      <th>transacted_after_a_month</th>\n      <th>location_path_name_primary</th>\n      <th>coordinates_lat</th>\n      <th>coordinates_lon</th>\n    </tr>\n  </thead>\n  <tbody>\n    <tr>\n      <th>0</th>\n      <td>6406935</td>\n      <td>2018-10-27 17:36:30.000</td>\n      <td>2018-11-05 11:00:21.000</td>\n      <td></td>\n      <td>1</td>\n      <td>1</td>\n      <td>3</td>\n      <td>4</td>\n      <td>1362</td>\n      <td>None</td>\n      <td>2929842</td>\n      <td>0</td>\n      <td>Dubai,Downtown Dubai,The Address Residence Fou...</td>\n      <td>25.1949</td>\n      <td>55.2827</td>\n    </tr>\n  </tbody>\n</table>\n</div>"
     },
     "execution_count": 5,
     "metadata": {},
     "output_type": "execute_result"
    }
   ],
   "source": [
    "# Explore the tables\n",
    "database.read('SELECT * FROM listings LIMIT 1', dataframe=True)"
   ],
   "metadata": {
    "collapsed": false,
    "pycharm": {
     "name": "#%%\n"
    }
   }
  },
  {
   "cell_type": "code",
   "execution_count": 6,
   "outputs": [
    {
     "data": {
      "text/plain": "             name  category      lat      lon\n0  Expo 2020 Site  Landmark  24.9606  55.1506",
      "text/html": "<div>\n<style scoped>\n    .dataframe tbody tr th:only-of-type {\n        vertical-align: middle;\n    }\n\n    .dataframe tbody tr th {\n        vertical-align: top;\n    }\n\n    .dataframe thead th {\n        text-align: right;\n    }\n</style>\n<table border=\"1\" class=\"dataframe\">\n  <thead>\n    <tr style=\"text-align: right;\">\n      <th></th>\n      <th>name</th>\n      <th>category</th>\n      <th>lat</th>\n      <th>lon</th>\n    </tr>\n  </thead>\n  <tbody>\n    <tr>\n      <th>0</th>\n      <td>Expo 2020 Site</td>\n      <td>Landmark</td>\n      <td>24.9606</td>\n      <td>55.1506</td>\n    </tr>\n  </tbody>\n</table>\n</div>"
     },
     "execution_count": 6,
     "metadata": {},
     "output_type": "execute_result"
    }
   ],
   "source": [
    "database.read('SELECT * FROM poi LIMIT 1', dataframe=True)"
   ],
   "metadata": {
    "collapsed": false,
    "pycharm": {
     "name": "#%%\n"
    }
   }
  },
  {
   "cell_type": "markdown",
   "source": [
    "The data is very tiny. Only ~61k rows in total. I prefer to load data directly in memory and work with it.\n",
    "However, for BigData (not fitting into RAM) I would be using absolutely different approach:\n",
    "Lazy Loading with dask/pyspark.\n",
    "Also, I would like to rename column, because the names are suboptimal."
   ],
   "metadata": {
    "collapsed": false,
    "pycharm": {
     "name": "#%% md\n"
    }
   }
  },
  {
   "cell_type": "code",
   "execution_count": 7,
   "outputs": [
    {
     "data": {
      "text/plain": "            id               valid_from                 valid_to updated  \\\n0      6406935  2018-10-27 17:36:30.000  2018-11-05 11:00:21.000           \n1      5949553  2018-10-30 13:01:41.000  2019-02-14 08:00:31.000           \n2      6389258  2018-10-30 07:01:43.000  2018-11-01 16:00:59.000           \n3      6467389  2018-10-27 17:46:52.000  2018-12-12 10:00:43.000           \n4      6479131  2018-10-27 17:36:30.000  2018-11-20 11:33:25.000           \n...        ...                      ...                      ...     ...   \n59995  6192930  2018-10-27 17:46:52.000  2018-11-05 13:01:16.000           \n59996  6477383  2018-10-27 17:36:30.000  2018-11-20 11:42:05.000           \n59997  6396153  2018-10-31 06:01:08.000  2018-11-20 11:33:25.000           \n59998  6367449  2018-10-27 17:46:52.000  2018-11-01 14:10:56.000           \n59999  6435159  2018-10-27 17:46:52.000  2018-11-04 08:01:08.000           \n\n       offer_type  property_type  bedrooms  bathrooms   sqft  cheques  \\\n0               1              1         3          4   1362      NaN   \n1               1              1         7          7  16000      NaN   \n2               1              1         6          6   3600      NaN   \n3               2              1         2          3    981     12.0   \n4               1              1         2          3    860      NaN   \n...           ...            ...       ...        ...    ...      ...   \n59995           1              1         6          5   4909      NaN   \n59996           2              1         4          4   1900      NaN   \n59997           2              1         2          2   1603      NaN   \n59998           2              1         3          4   1670      NaN   \n59999           2              1         2          3    915      NaN   \n\n          price  transacted  \\\n0       2929842         0.0   \n1      12500000         0.0   \n2       3227499         0.0   \n3         88400         0.0   \n4       1100000         0.0   \n...         ...         ...   \n59995   4679999         0.0   \n59996    165000         0.0   \n59997    167283         0.0   \n59998    195455         0.0   \n59999     67727         0.0   \n\n                                           location_path  latitude  longitude  \n0      Dubai,Downtown Dubai,The Address Residence Fou...   25.1949    55.2827  \n1                       Dubai,Al Barari,Al Barari Villas   25.0981    55.3106  \n2                             Dubai,Jumeirah Park,Legacy   25.0481    55.1544  \n3                      Dubai,Culture Village,Dubai Wharf   25.2257    55.3387  \n4       Dubai,Umm Suqeim,Madinat Jumeirah Living,Lamtara   25.1374    55.1890  \n...                                                  ...       ...        ...  \n59995              Dubai,Arabian Ranches,Saheel,Saheel 3   25.0561    55.2667  \n59996           Dubai,Dubai Marina,Al Majara,Al Majara 1   25.0742    55.1378  \n59997       Dubai,Jumeirah Beach Residence,Shams,Shams 4   25.0728    55.1298  \n59998  Dubai,Jumeirah Beach Residence,The Walk,Al Bat...   25.0730    55.1281  \n59999                    Dubai,Dubai Marina,Sulafa Tower   25.0895    55.1489  \n\n[60000 rows x 15 columns]",
      "text/html": "<div>\n<style scoped>\n    .dataframe tbody tr th:only-of-type {\n        vertical-align: middle;\n    }\n\n    .dataframe tbody tr th {\n        vertical-align: top;\n    }\n\n    .dataframe thead th {\n        text-align: right;\n    }\n</style>\n<table border=\"1\" class=\"dataframe\">\n  <thead>\n    <tr style=\"text-align: right;\">\n      <th></th>\n      <th>id</th>\n      <th>valid_from</th>\n      <th>valid_to</th>\n      <th>updated</th>\n      <th>offer_type</th>\n      <th>property_type</th>\n      <th>bedrooms</th>\n      <th>bathrooms</th>\n      <th>sqft</th>\n      <th>cheques</th>\n      <th>price</th>\n      <th>transacted</th>\n      <th>location_path</th>\n      <th>latitude</th>\n      <th>longitude</th>\n    </tr>\n  </thead>\n  <tbody>\n    <tr>\n      <th>0</th>\n      <td>6406935</td>\n      <td>2018-10-27 17:36:30.000</td>\n      <td>2018-11-05 11:00:21.000</td>\n      <td></td>\n      <td>1</td>\n      <td>1</td>\n      <td>3</td>\n      <td>4</td>\n      <td>1362</td>\n      <td>NaN</td>\n      <td>2929842</td>\n      <td>0.0</td>\n      <td>Dubai,Downtown Dubai,The Address Residence Fou...</td>\n      <td>25.1949</td>\n      <td>55.2827</td>\n    </tr>\n    <tr>\n      <th>1</th>\n      <td>5949553</td>\n      <td>2018-10-30 13:01:41.000</td>\n      <td>2019-02-14 08:00:31.000</td>\n      <td></td>\n      <td>1</td>\n      <td>1</td>\n      <td>7</td>\n      <td>7</td>\n      <td>16000</td>\n      <td>NaN</td>\n      <td>12500000</td>\n      <td>0.0</td>\n      <td>Dubai,Al Barari,Al Barari Villas</td>\n      <td>25.0981</td>\n      <td>55.3106</td>\n    </tr>\n    <tr>\n      <th>2</th>\n      <td>6389258</td>\n      <td>2018-10-30 07:01:43.000</td>\n      <td>2018-11-01 16:00:59.000</td>\n      <td></td>\n      <td>1</td>\n      <td>1</td>\n      <td>6</td>\n      <td>6</td>\n      <td>3600</td>\n      <td>NaN</td>\n      <td>3227499</td>\n      <td>0.0</td>\n      <td>Dubai,Jumeirah Park,Legacy</td>\n      <td>25.0481</td>\n      <td>55.1544</td>\n    </tr>\n    <tr>\n      <th>3</th>\n      <td>6467389</td>\n      <td>2018-10-27 17:46:52.000</td>\n      <td>2018-12-12 10:00:43.000</td>\n      <td></td>\n      <td>2</td>\n      <td>1</td>\n      <td>2</td>\n      <td>3</td>\n      <td>981</td>\n      <td>12.0</td>\n      <td>88400</td>\n      <td>0.0</td>\n      <td>Dubai,Culture Village,Dubai Wharf</td>\n      <td>25.2257</td>\n      <td>55.3387</td>\n    </tr>\n    <tr>\n      <th>4</th>\n      <td>6479131</td>\n      <td>2018-10-27 17:36:30.000</td>\n      <td>2018-11-20 11:33:25.000</td>\n      <td></td>\n      <td>1</td>\n      <td>1</td>\n      <td>2</td>\n      <td>3</td>\n      <td>860</td>\n      <td>NaN</td>\n      <td>1100000</td>\n      <td>0.0</td>\n      <td>Dubai,Umm Suqeim,Madinat Jumeirah Living,Lamtara</td>\n      <td>25.1374</td>\n      <td>55.1890</td>\n    </tr>\n    <tr>\n      <th>...</th>\n      <td>...</td>\n      <td>...</td>\n      <td>...</td>\n      <td>...</td>\n      <td>...</td>\n      <td>...</td>\n      <td>...</td>\n      <td>...</td>\n      <td>...</td>\n      <td>...</td>\n      <td>...</td>\n      <td>...</td>\n      <td>...</td>\n      <td>...</td>\n      <td>...</td>\n    </tr>\n    <tr>\n      <th>59995</th>\n      <td>6192930</td>\n      <td>2018-10-27 17:46:52.000</td>\n      <td>2018-11-05 13:01:16.000</td>\n      <td></td>\n      <td>1</td>\n      <td>1</td>\n      <td>6</td>\n      <td>5</td>\n      <td>4909</td>\n      <td>NaN</td>\n      <td>4679999</td>\n      <td>0.0</td>\n      <td>Dubai,Arabian Ranches,Saheel,Saheel 3</td>\n      <td>25.0561</td>\n      <td>55.2667</td>\n    </tr>\n    <tr>\n      <th>59996</th>\n      <td>6477383</td>\n      <td>2018-10-27 17:36:30.000</td>\n      <td>2018-11-20 11:42:05.000</td>\n      <td></td>\n      <td>2</td>\n      <td>1</td>\n      <td>4</td>\n      <td>4</td>\n      <td>1900</td>\n      <td>NaN</td>\n      <td>165000</td>\n      <td>0.0</td>\n      <td>Dubai,Dubai Marina,Al Majara,Al Majara 1</td>\n      <td>25.0742</td>\n      <td>55.1378</td>\n    </tr>\n    <tr>\n      <th>59997</th>\n      <td>6396153</td>\n      <td>2018-10-31 06:01:08.000</td>\n      <td>2018-11-20 11:33:25.000</td>\n      <td></td>\n      <td>2</td>\n      <td>1</td>\n      <td>2</td>\n      <td>2</td>\n      <td>1603</td>\n      <td>NaN</td>\n      <td>167283</td>\n      <td>0.0</td>\n      <td>Dubai,Jumeirah Beach Residence,Shams,Shams 4</td>\n      <td>25.0728</td>\n      <td>55.1298</td>\n    </tr>\n    <tr>\n      <th>59998</th>\n      <td>6367449</td>\n      <td>2018-10-27 17:46:52.000</td>\n      <td>2018-11-01 14:10:56.000</td>\n      <td></td>\n      <td>2</td>\n      <td>1</td>\n      <td>3</td>\n      <td>4</td>\n      <td>1670</td>\n      <td>NaN</td>\n      <td>195455</td>\n      <td>0.0</td>\n      <td>Dubai,Jumeirah Beach Residence,The Walk,Al Bat...</td>\n      <td>25.0730</td>\n      <td>55.1281</td>\n    </tr>\n    <tr>\n      <th>59999</th>\n      <td>6435159</td>\n      <td>2018-10-27 17:46:52.000</td>\n      <td>2018-11-04 08:01:08.000</td>\n      <td></td>\n      <td>2</td>\n      <td>1</td>\n      <td>2</td>\n      <td>3</td>\n      <td>915</td>\n      <td>NaN</td>\n      <td>67727</td>\n      <td>0.0</td>\n      <td>Dubai,Dubai Marina,Sulafa Tower</td>\n      <td>25.0895</td>\n      <td>55.1489</td>\n    </tr>\n  </tbody>\n</table>\n<p>60000 rows × 15 columns</p>\n</div>"
     },
     "execution_count": 7,
     "metadata": {},
     "output_type": "execute_result"
    }
   ],
   "source": [
    "listings = database.read(\"\"\"\n",
    "SELECT  web_id ID, meta_valid_from_dts valid_from, meta_valid_to_dts valid_to,\n",
    "        feed_last_update updated, offering_type_id offer_type, property_type_id property_type,\n",
    "        bedroom_id bedrooms, bathroom_id bathrooms, property_sqft sqft, property_cheques cheques,\n",
    "        property_price price, transacted_after_a_month transacted,\n",
    "        location_path_name_primary location_path, coordinates_lat latitude, coordinates_lon longitude\n",
    "FROM    listings\"\"\", dataframe=True)\n",
    "listings"
   ],
   "metadata": {
    "collapsed": false,
    "pycharm": {
     "name": "#%%\n"
    }
   }
  },
  {
   "cell_type": "code",
   "execution_count": 8,
   "outputs": [
    {
     "data": {
      "text/plain": "                     name  category  latitude  longitude\n0          Expo 2020 Site  Landmark   24.9606    55.1506\n1             Marina Mall  Landmark   25.0765    55.1407\n2   Hamdan Sports Complex  Landmark   25.0512    55.3181\n3              Motor City  Landmark   25.0449    55.2395\n4               Jabel Ali  Landmark   25.0034    54.9904\n..                    ...       ...       ...        ...\n72               BurJuman     Metro   25.2550    55.3040\n73   Mall of the Emirates     Metro   25.1210    55.2000\n74              Oud Metha     Metro   25.2440    55.3160\n75             Palm Deira     Metro   25.2760    55.3010\n76                  Creek     Metro   25.2190    55.3390\n\n[77 rows x 4 columns]",
      "text/html": "<div>\n<style scoped>\n    .dataframe tbody tr th:only-of-type {\n        vertical-align: middle;\n    }\n\n    .dataframe tbody tr th {\n        vertical-align: top;\n    }\n\n    .dataframe thead th {\n        text-align: right;\n    }\n</style>\n<table border=\"1\" class=\"dataframe\">\n  <thead>\n    <tr style=\"text-align: right;\">\n      <th></th>\n      <th>name</th>\n      <th>category</th>\n      <th>latitude</th>\n      <th>longitude</th>\n    </tr>\n  </thead>\n  <tbody>\n    <tr>\n      <th>0</th>\n      <td>Expo 2020 Site</td>\n      <td>Landmark</td>\n      <td>24.9606</td>\n      <td>55.1506</td>\n    </tr>\n    <tr>\n      <th>1</th>\n      <td>Marina Mall</td>\n      <td>Landmark</td>\n      <td>25.0765</td>\n      <td>55.1407</td>\n    </tr>\n    <tr>\n      <th>2</th>\n      <td>Hamdan Sports Complex</td>\n      <td>Landmark</td>\n      <td>25.0512</td>\n      <td>55.3181</td>\n    </tr>\n    <tr>\n      <th>3</th>\n      <td>Motor City</td>\n      <td>Landmark</td>\n      <td>25.0449</td>\n      <td>55.2395</td>\n    </tr>\n    <tr>\n      <th>4</th>\n      <td>Jabel Ali</td>\n      <td>Landmark</td>\n      <td>25.0034</td>\n      <td>54.9904</td>\n    </tr>\n    <tr>\n      <th>...</th>\n      <td>...</td>\n      <td>...</td>\n      <td>...</td>\n      <td>...</td>\n    </tr>\n    <tr>\n      <th>72</th>\n      <td>BurJuman</td>\n      <td>Metro</td>\n      <td>25.2550</td>\n      <td>55.3040</td>\n    </tr>\n    <tr>\n      <th>73</th>\n      <td>Mall of the Emirates</td>\n      <td>Metro</td>\n      <td>25.1210</td>\n      <td>55.2000</td>\n    </tr>\n    <tr>\n      <th>74</th>\n      <td>Oud Metha</td>\n      <td>Metro</td>\n      <td>25.2440</td>\n      <td>55.3160</td>\n    </tr>\n    <tr>\n      <th>75</th>\n      <td>Palm Deira</td>\n      <td>Metro</td>\n      <td>25.2760</td>\n      <td>55.3010</td>\n    </tr>\n    <tr>\n      <th>76</th>\n      <td>Creek</td>\n      <td>Metro</td>\n      <td>25.2190</td>\n      <td>55.3390</td>\n    </tr>\n  </tbody>\n</table>\n<p>77 rows × 4 columns</p>\n</div>"
     },
     "execution_count": 8,
     "metadata": {},
     "output_type": "execute_result"
    }
   ],
   "source": [
    "poi = database.read(\"\"\"\n",
    "SELECT  name, category, lat latitude, lon longitude\n",
    "FROM    poi\n",
    "\"\"\", dataframe=True)\n",
    "poi"
   ],
   "metadata": {
    "collapsed": false,
    "pycharm": {
     "name": "#%%\n"
    }
   }
  },
  {
   "cell_type": "markdown",
   "source": [
    "## First Look\n",
    "Check how much information every column gives to us.\n",
    "If column consists of only 1 unique value -> there is no info."
   ],
   "metadata": {
    "collapsed": false,
    "pycharm": {
     "name": "#%% md\n"
    }
   }
  },
  {
   "cell_type": "code",
   "execution_count": 9,
   "outputs": [
    {
     "data": {
      "text/plain": "               uniques  share_%\nid               60000   100.00\nvalid_from         615     1.03\nvalid_to          2405     4.01\nupdated              1     0.00\noffer_type           2     0.00\nproperty_type        1     0.00\nbedrooms            10     0.02\nbathrooms            9     0.02\nsqft              5128     8.55\ncheques             10     0.02\nprice            30155    50.26\ntransacted           2     0.00\nlocation_path     2774     4.62\nlatitude          1602     2.67\nlongitude         1638     2.73",
      "text/html": "<div>\n<style scoped>\n    .dataframe tbody tr th:only-of-type {\n        vertical-align: middle;\n    }\n\n    .dataframe tbody tr th {\n        vertical-align: top;\n    }\n\n    .dataframe thead th {\n        text-align: right;\n    }\n</style>\n<table border=\"1\" class=\"dataframe\">\n  <thead>\n    <tr style=\"text-align: right;\">\n      <th></th>\n      <th>uniques</th>\n      <th>share_%</th>\n    </tr>\n  </thead>\n  <tbody>\n    <tr>\n      <th>id</th>\n      <td>60000</td>\n      <td>100.00</td>\n    </tr>\n    <tr>\n      <th>valid_from</th>\n      <td>615</td>\n      <td>1.03</td>\n    </tr>\n    <tr>\n      <th>valid_to</th>\n      <td>2405</td>\n      <td>4.01</td>\n    </tr>\n    <tr>\n      <th>updated</th>\n      <td>1</td>\n      <td>0.00</td>\n    </tr>\n    <tr>\n      <th>offer_type</th>\n      <td>2</td>\n      <td>0.00</td>\n    </tr>\n    <tr>\n      <th>property_type</th>\n      <td>1</td>\n      <td>0.00</td>\n    </tr>\n    <tr>\n      <th>bedrooms</th>\n      <td>10</td>\n      <td>0.02</td>\n    </tr>\n    <tr>\n      <th>bathrooms</th>\n      <td>9</td>\n      <td>0.02</td>\n    </tr>\n    <tr>\n      <th>sqft</th>\n      <td>5128</td>\n      <td>8.55</td>\n    </tr>\n    <tr>\n      <th>cheques</th>\n      <td>10</td>\n      <td>0.02</td>\n    </tr>\n    <tr>\n      <th>price</th>\n      <td>30155</td>\n      <td>50.26</td>\n    </tr>\n    <tr>\n      <th>transacted</th>\n      <td>2</td>\n      <td>0.00</td>\n    </tr>\n    <tr>\n      <th>location_path</th>\n      <td>2774</td>\n      <td>4.62</td>\n    </tr>\n    <tr>\n      <th>latitude</th>\n      <td>1602</td>\n      <td>2.67</td>\n    </tr>\n    <tr>\n      <th>longitude</th>\n      <td>1638</td>\n      <td>2.73</td>\n    </tr>\n  </tbody>\n</table>\n</div>"
     },
     "execution_count": 9,
     "metadata": {},
     "output_type": "execute_result"
    }
   ],
   "source": [
    "uniques = listings.nunique().to_frame(name='uniques')\n",
    "uniques['share_%'] = (uniques['uniques'] / listings.shape[0] * 100).round(2)\n",
    "uniques"
   ],
   "metadata": {
    "collapsed": false,
    "pycharm": {
     "name": "#%%\n"
    }
   }
  },
  {
   "cell_type": "markdown",
   "source": [
    "Use id as index, since it's unique and is not gonna be used as feature"
   ],
   "metadata": {
    "collapsed": false,
    "pycharm": {
     "name": "#%% md\n"
    }
   }
  },
  {
   "cell_type": "code",
   "execution_count": 10,
   "outputs": [],
   "source": [
    "listings.set_index(keys=['id'], drop=True, inplace=True)"
   ],
   "metadata": {
    "collapsed": false,
    "pycharm": {
     "name": "#%%\n"
    }
   }
  },
  {
   "cell_type": "markdown",
   "source": [
    "Drop updated and property_type. They have only one unique value, not informative."
   ],
   "metadata": {
    "collapsed": false,
    "pycharm": {
     "name": "#%% md\n"
    }
   }
  },
  {
   "cell_type": "code",
   "execution_count": 11,
   "outputs": [],
   "source": [
    "listings.drop(columns=['updated', 'property_type'], inplace=True)"
   ],
   "metadata": {
    "collapsed": false,
    "pycharm": {
     "name": "#%%\n"
    }
   }
  },
  {
   "cell_type": "markdown",
   "source": [
    "## Optimize\n",
    "Optimization of datatypes reduces overall dataframe size and increases operation speed.\n",
    "Offtop: This is very important step, when we are dealing with some bigger sets (e.g. 4Gb),\n",
    "that still fit in RAM but are not considered as Big Data. Usually,\n",
    "optimization reduces DF's memory consumption by ~40-60%"
   ],
   "metadata": {
    "collapsed": false,
    "pycharm": {
     "name": "#%% md\n"
    }
   }
  },
  {
   "cell_type": "code",
   "execution_count": 12,
   "outputs": [
    {
     "data": {
      "text/plain": "                 valid_from            valid_to  offer_type  bedrooms  \\\nid                                                                      \n6406935 2018-10-27 17:36:30 2018-11-05 11:00:21           1         3   \n5949553 2018-10-30 13:01:41 2019-02-14 08:00:31           1         7   \n6389258 2018-10-30 07:01:43 2018-11-01 16:00:59           1         6   \n6467389 2018-10-27 17:46:52 2018-12-12 10:00:43           2         2   \n6479131 2018-10-27 17:36:30 2018-11-20 11:33:25           1         2   \n...                     ...                 ...         ...       ...   \n6192930 2018-10-27 17:46:52 2018-11-05 13:01:16           1         6   \n6477383 2018-10-27 17:36:30 2018-11-20 11:42:05           2         4   \n6396153 2018-10-31 06:01:08 2018-11-20 11:33:25           2         2   \n6367449 2018-10-27 17:46:52 2018-11-01 14:10:56           2         3   \n6435159 2018-10-27 17:46:52 2018-11-04 08:01:08           2         2   \n\n         bathrooms   sqft  cheques     price  transacted  \\\nid                                                         \n6406935          4   1362      NaN   2929842         0.0   \n5949553          7  16000      NaN  12500000         0.0   \n6389258          6   3600      NaN   3227499         0.0   \n6467389          3    981     12.0     88400         0.0   \n6479131          3    860      NaN   1100000         0.0   \n...            ...    ...      ...       ...         ...   \n6192930          5   4909      NaN   4679999         0.0   \n6477383          4   1900      NaN    165000         0.0   \n6396153          2   1603      NaN    167283         0.0   \n6367449          4   1670      NaN    195455         0.0   \n6435159          3    915      NaN     67727         0.0   \n\n                                             location_path   latitude  \\\nid                                                                      \n6406935  Dubai,Downtown Dubai,The Address Residence Fou...  25.194901   \n5949553                   Dubai,Al Barari,Al Barari Villas  25.098101   \n6389258                         Dubai,Jumeirah Park,Legacy  25.048100   \n6467389                  Dubai,Culture Village,Dubai Wharf  25.225700   \n6479131   Dubai,Umm Suqeim,Madinat Jumeirah Living,Lamtara  25.137400   \n...                                                    ...        ...   \n6192930              Dubai,Arabian Ranches,Saheel,Saheel 3  25.056101   \n6477383           Dubai,Dubai Marina,Al Majara,Al Majara 1  25.074200   \n6396153       Dubai,Jumeirah Beach Residence,Shams,Shams 4  25.072800   \n6367449  Dubai,Jumeirah Beach Residence,The Walk,Al Bat...  25.073000   \n6435159                    Dubai,Dubai Marina,Sulafa Tower  25.089500   \n\n         longitude  \nid                  \n6406935  55.282700  \n5949553  55.310600  \n6389258  55.154400  \n6467389  55.338699  \n6479131  55.188999  \n...            ...  \n6192930  55.266701  \n6477383  55.137798  \n6396153  55.129799  \n6367449  55.128101  \n6435159  55.148899  \n\n[60000 rows x 12 columns]",
      "text/html": "<div>\n<style scoped>\n    .dataframe tbody tr th:only-of-type {\n        vertical-align: middle;\n    }\n\n    .dataframe tbody tr th {\n        vertical-align: top;\n    }\n\n    .dataframe thead th {\n        text-align: right;\n    }\n</style>\n<table border=\"1\" class=\"dataframe\">\n  <thead>\n    <tr style=\"text-align: right;\">\n      <th></th>\n      <th>valid_from</th>\n      <th>valid_to</th>\n      <th>offer_type</th>\n      <th>bedrooms</th>\n      <th>bathrooms</th>\n      <th>sqft</th>\n      <th>cheques</th>\n      <th>price</th>\n      <th>transacted</th>\n      <th>location_path</th>\n      <th>latitude</th>\n      <th>longitude</th>\n    </tr>\n    <tr>\n      <th>id</th>\n      <th></th>\n      <th></th>\n      <th></th>\n      <th></th>\n      <th></th>\n      <th></th>\n      <th></th>\n      <th></th>\n      <th></th>\n      <th></th>\n      <th></th>\n      <th></th>\n    </tr>\n  </thead>\n  <tbody>\n    <tr>\n      <th>6406935</th>\n      <td>2018-10-27 17:36:30</td>\n      <td>2018-11-05 11:00:21</td>\n      <td>1</td>\n      <td>3</td>\n      <td>4</td>\n      <td>1362</td>\n      <td>NaN</td>\n      <td>2929842</td>\n      <td>0.0</td>\n      <td>Dubai,Downtown Dubai,The Address Residence Fou...</td>\n      <td>25.194901</td>\n      <td>55.282700</td>\n    </tr>\n    <tr>\n      <th>5949553</th>\n      <td>2018-10-30 13:01:41</td>\n      <td>2019-02-14 08:00:31</td>\n      <td>1</td>\n      <td>7</td>\n      <td>7</td>\n      <td>16000</td>\n      <td>NaN</td>\n      <td>12500000</td>\n      <td>0.0</td>\n      <td>Dubai,Al Barari,Al Barari Villas</td>\n      <td>25.098101</td>\n      <td>55.310600</td>\n    </tr>\n    <tr>\n      <th>6389258</th>\n      <td>2018-10-30 07:01:43</td>\n      <td>2018-11-01 16:00:59</td>\n      <td>1</td>\n      <td>6</td>\n      <td>6</td>\n      <td>3600</td>\n      <td>NaN</td>\n      <td>3227499</td>\n      <td>0.0</td>\n      <td>Dubai,Jumeirah Park,Legacy</td>\n      <td>25.048100</td>\n      <td>55.154400</td>\n    </tr>\n    <tr>\n      <th>6467389</th>\n      <td>2018-10-27 17:46:52</td>\n      <td>2018-12-12 10:00:43</td>\n      <td>2</td>\n      <td>2</td>\n      <td>3</td>\n      <td>981</td>\n      <td>12.0</td>\n      <td>88400</td>\n      <td>0.0</td>\n      <td>Dubai,Culture Village,Dubai Wharf</td>\n      <td>25.225700</td>\n      <td>55.338699</td>\n    </tr>\n    <tr>\n      <th>6479131</th>\n      <td>2018-10-27 17:36:30</td>\n      <td>2018-11-20 11:33:25</td>\n      <td>1</td>\n      <td>2</td>\n      <td>3</td>\n      <td>860</td>\n      <td>NaN</td>\n      <td>1100000</td>\n      <td>0.0</td>\n      <td>Dubai,Umm Suqeim,Madinat Jumeirah Living,Lamtara</td>\n      <td>25.137400</td>\n      <td>55.188999</td>\n    </tr>\n    <tr>\n      <th>...</th>\n      <td>...</td>\n      <td>...</td>\n      <td>...</td>\n      <td>...</td>\n      <td>...</td>\n      <td>...</td>\n      <td>...</td>\n      <td>...</td>\n      <td>...</td>\n      <td>...</td>\n      <td>...</td>\n      <td>...</td>\n    </tr>\n    <tr>\n      <th>6192930</th>\n      <td>2018-10-27 17:46:52</td>\n      <td>2018-11-05 13:01:16</td>\n      <td>1</td>\n      <td>6</td>\n      <td>5</td>\n      <td>4909</td>\n      <td>NaN</td>\n      <td>4679999</td>\n      <td>0.0</td>\n      <td>Dubai,Arabian Ranches,Saheel,Saheel 3</td>\n      <td>25.056101</td>\n      <td>55.266701</td>\n    </tr>\n    <tr>\n      <th>6477383</th>\n      <td>2018-10-27 17:36:30</td>\n      <td>2018-11-20 11:42:05</td>\n      <td>2</td>\n      <td>4</td>\n      <td>4</td>\n      <td>1900</td>\n      <td>NaN</td>\n      <td>165000</td>\n      <td>0.0</td>\n      <td>Dubai,Dubai Marina,Al Majara,Al Majara 1</td>\n      <td>25.074200</td>\n      <td>55.137798</td>\n    </tr>\n    <tr>\n      <th>6396153</th>\n      <td>2018-10-31 06:01:08</td>\n      <td>2018-11-20 11:33:25</td>\n      <td>2</td>\n      <td>2</td>\n      <td>2</td>\n      <td>1603</td>\n      <td>NaN</td>\n      <td>167283</td>\n      <td>0.0</td>\n      <td>Dubai,Jumeirah Beach Residence,Shams,Shams 4</td>\n      <td>25.072800</td>\n      <td>55.129799</td>\n    </tr>\n    <tr>\n      <th>6367449</th>\n      <td>2018-10-27 17:46:52</td>\n      <td>2018-11-01 14:10:56</td>\n      <td>2</td>\n      <td>3</td>\n      <td>4</td>\n      <td>1670</td>\n      <td>NaN</td>\n      <td>195455</td>\n      <td>0.0</td>\n      <td>Dubai,Jumeirah Beach Residence,The Walk,Al Bat...</td>\n      <td>25.073000</td>\n      <td>55.128101</td>\n    </tr>\n    <tr>\n      <th>6435159</th>\n      <td>2018-10-27 17:46:52</td>\n      <td>2018-11-04 08:01:08</td>\n      <td>2</td>\n      <td>2</td>\n      <td>3</td>\n      <td>915</td>\n      <td>NaN</td>\n      <td>67727</td>\n      <td>0.0</td>\n      <td>Dubai,Dubai Marina,Sulafa Tower</td>\n      <td>25.089500</td>\n      <td>55.148899</td>\n    </tr>\n  </tbody>\n</table>\n<p>60000 rows × 12 columns</p>\n</div>"
     },
     "execution_count": 12,
     "metadata": {},
     "output_type": "execute_result"
    }
   ],
   "source": [
    "dtypes = {'valid_from': 'datetime64[s]',\n",
    "          'valid_to': 'datetime64[s]',\n",
    "          'offer_type': 'uint8',\n",
    "          'bedrooms': 'uint8',\n",
    "          'bathrooms': 'uint8',\n",
    "          'sqft': 'uint32',\n",
    "          'price': 'uint64',\n",
    "          'transacted': 'float32', # Nullable\n",
    "          'location_path': 'str',\n",
    "          'latitude': 'float32',\n",
    "          'longitude': 'float32'}\n",
    "listings = listings.astype(dtypes)\n",
    "listings"
   ],
   "metadata": {
    "collapsed": false,
    "pycharm": {
     "name": "#%%\n"
    }
   }
  },
  {
   "cell_type": "code",
   "execution_count": 13,
   "outputs": [
    {
     "data": {
      "text/plain": "                     name  category   latitude  longitude\n0          Expo 2020 Site  Landmark  24.960600  55.150600\n1             Marina Mall  Landmark  25.076500  55.140701\n2   Hamdan Sports Complex  Landmark  25.051201  55.318100\n3              Motor City  Landmark  25.044901  55.239498\n4               Jabel Ali  Landmark  25.003401  54.990398\n..                    ...       ...        ...        ...\n72               BurJuman     Metro  25.254999  55.304001\n73   Mall of the Emirates     Metro  25.121000  55.200001\n74              Oud Metha     Metro  25.243999  55.316002\n75             Palm Deira     Metro  25.275999  55.300999\n76                  Creek     Metro  25.219000  55.339001\n\n[77 rows x 4 columns]",
      "text/html": "<div>\n<style scoped>\n    .dataframe tbody tr th:only-of-type {\n        vertical-align: middle;\n    }\n\n    .dataframe tbody tr th {\n        vertical-align: top;\n    }\n\n    .dataframe thead th {\n        text-align: right;\n    }\n</style>\n<table border=\"1\" class=\"dataframe\">\n  <thead>\n    <tr style=\"text-align: right;\">\n      <th></th>\n      <th>name</th>\n      <th>category</th>\n      <th>latitude</th>\n      <th>longitude</th>\n    </tr>\n  </thead>\n  <tbody>\n    <tr>\n      <th>0</th>\n      <td>Expo 2020 Site</td>\n      <td>Landmark</td>\n      <td>24.960600</td>\n      <td>55.150600</td>\n    </tr>\n    <tr>\n      <th>1</th>\n      <td>Marina Mall</td>\n      <td>Landmark</td>\n      <td>25.076500</td>\n      <td>55.140701</td>\n    </tr>\n    <tr>\n      <th>2</th>\n      <td>Hamdan Sports Complex</td>\n      <td>Landmark</td>\n      <td>25.051201</td>\n      <td>55.318100</td>\n    </tr>\n    <tr>\n      <th>3</th>\n      <td>Motor City</td>\n      <td>Landmark</td>\n      <td>25.044901</td>\n      <td>55.239498</td>\n    </tr>\n    <tr>\n      <th>4</th>\n      <td>Jabel Ali</td>\n      <td>Landmark</td>\n      <td>25.003401</td>\n      <td>54.990398</td>\n    </tr>\n    <tr>\n      <th>...</th>\n      <td>...</td>\n      <td>...</td>\n      <td>...</td>\n      <td>...</td>\n    </tr>\n    <tr>\n      <th>72</th>\n      <td>BurJuman</td>\n      <td>Metro</td>\n      <td>25.254999</td>\n      <td>55.304001</td>\n    </tr>\n    <tr>\n      <th>73</th>\n      <td>Mall of the Emirates</td>\n      <td>Metro</td>\n      <td>25.121000</td>\n      <td>55.200001</td>\n    </tr>\n    <tr>\n      <th>74</th>\n      <td>Oud Metha</td>\n      <td>Metro</td>\n      <td>25.243999</td>\n      <td>55.316002</td>\n    </tr>\n    <tr>\n      <th>75</th>\n      <td>Palm Deira</td>\n      <td>Metro</td>\n      <td>25.275999</td>\n      <td>55.300999</td>\n    </tr>\n    <tr>\n      <th>76</th>\n      <td>Creek</td>\n      <td>Metro</td>\n      <td>25.219000</td>\n      <td>55.339001</td>\n    </tr>\n  </tbody>\n</table>\n<p>77 rows × 4 columns</p>\n</div>"
     },
     "execution_count": 13,
     "metadata": {},
     "output_type": "execute_result"
    }
   ],
   "source": [
    "dtypes = {'name': 'str',\n",
    "          'category': 'str',\n",
    "          'latitude': 'float32',\n",
    "          'longitude': 'float32'}\n",
    "poi = poi.astype(dtypes)\n",
    "poi"
   ],
   "metadata": {
    "collapsed": false,
    "pycharm": {
     "name": "#%%\n"
    }
   }
  },
  {
   "cell_type": "markdown",
   "source": [
    "## Results and Dump\n",
    "What we got so far: cleaner, optimized, informative dataset.\n",
    "Dump the result and move to the Preprocessing step."
   ],
   "metadata": {
    "collapsed": false,
    "pycharm": {
     "name": "#%% md\n"
    }
   }
  },
  {
   "cell_type": "code",
   "execution_count": 14,
   "outputs": [],
   "source": [
    "listings.to_pickle('core/loading/listings.pkl.gzip', protocol=4)\n",
    "poi.to_pickle('core/loading/poi.pkl.gzip', protocol=4)"
   ],
   "metadata": {
    "collapsed": false,
    "pycharm": {
     "name": "#%%\n"
    }
   }
  },
  {
   "cell_type": "code",
   "execution_count": null,
   "outputs": [],
   "source": [],
   "metadata": {
    "collapsed": false,
    "pycharm": {
     "name": "#%%\n"
    }
   }
  }
 ],
 "metadata": {
  "kernelspec": {
   "display_name": "Python 3",
   "language": "python",
   "name": "python3"
  },
  "language_info": {
   "codemirror_mode": {
    "name": "ipython",
    "version": 2
   },
   "file_extension": ".py",
   "mimetype": "text/x-python",
   "name": "python",
   "nbconvert_exporter": "python",
   "pygments_lexer": "ipython2",
   "version": "2.7.6"
  }
 },
 "nbformat": 4,
 "nbformat_minor": 0
}